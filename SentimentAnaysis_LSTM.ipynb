{
  "nbformat": 4,
  "nbformat_minor": 0,
  "metadata": {
    "colab": {
      "name": "SentimentAnaysis_RNN.ipynb",
      "provenance": [],
      "collapsed_sections": []
    },
    "kernelspec": {
      "name": "python3",
      "display_name": "Python 3"
    },
    "language_info": {
      "name": "python"
    }
  },
  "cells": [
    {
      "cell_type": "markdown",
      "source": [
        "**LSTM is implemented in Recurring Neural Network (RNN) architecture with IMDb movie reviews dataset in TensorFlow.**"
      ],
      "metadata": {
        "id": "RoZ5WUcXqBWS"
      }
    },
    {
      "cell_type": "code",
      "source": [
        "import pandas as pd    \n",
        "import numpy as np    \n",
        "import nltk\n",
        "from nltk.corpus import stopwords   \n",
        "import re\n",
        "from sklearn.model_selection import train_test_split \n",
        "from tensorflow.keras.models import Sequential     \n",
        "from tensorflow.keras.layers import Embedding, Dense,  LSTM \n",
        "from tensorflow.keras.callbacks import ModelCheckpoint      \n",
        "from tensorflow.keras.preprocessing.text import Tokenizer  \n",
        "from tensorflow.keras.preprocessing.sequence import pad_sequences      \n",
        "from tensorflow.keras.models import load_model   "
      ],
      "metadata": {
        "id": "za5k2UWep9ox"
      },
      "execution_count": 1,
      "outputs": []
    },
    {
      "cell_type": "code",
      "source": [
        "from google.colab import drive\n",
        "drive.mount('/content/drive')"
      ],
      "metadata": {
        "colab": {
          "base_uri": "https://localhost:8080/"
        },
        "id": "6-7hj2uJqMB4",
        "outputId": "b0a39534-db50-4ab1-fda8-060820a6a56c"
      },
      "execution_count": 2,
      "outputs": [
        {
          "output_type": "stream",
          "name": "stdout",
          "text": [
            "Drive already mounted at /content/drive; to attempt to forcibly remount, call drive.mount(\"/content/drive\", force_remount=True).\n"
          ]
        }
      ]
    },
    {
      "cell_type": "code",
      "source": [
        "df = pd.read_csv('/content/drive/MyDrive/Datasets/IMDB.csv')  # dataset is originally downloaded from Kaggle and mounted in my gdrive later\n",
        "df.head()"
      ],
      "metadata": {
        "colab": {
          "base_uri": "https://localhost:8080/",
          "height": 206
        },
        "id": "jP1I6bnthbMl",
        "outputId": "cc893f68-ddc4-42f8-efa8-50f94d98190f"
      },
      "execution_count": 3,
      "outputs": [
        {
          "output_type": "execute_result",
          "data": {
            "text/plain": [
              "                                              review sentiment\n",
              "0  One of the other reviewers has mentioned that ...  positive\n",
              "1  A wonderful little production. <br /><br />The...  positive\n",
              "2  I thought this was a wonderful way to spend ti...  positive\n",
              "3  Basically there's a family where a little boy ...  negative\n",
              "4  Petter Mattei's \"Love in the Time of Money\" is...  positive"
            ],
            "text/html": [
              "\n",
              "  <div id=\"df-f7846e17-868b-42c5-a394-21f3722f5c21\">\n",
              "    <div class=\"colab-df-container\">\n",
              "      <div>\n",
              "<style scoped>\n",
              "    .dataframe tbody tr th:only-of-type {\n",
              "        vertical-align: middle;\n",
              "    }\n",
              "\n",
              "    .dataframe tbody tr th {\n",
              "        vertical-align: top;\n",
              "    }\n",
              "\n",
              "    .dataframe thead th {\n",
              "        text-align: right;\n",
              "    }\n",
              "</style>\n",
              "<table border=\"1\" class=\"dataframe\">\n",
              "  <thead>\n",
              "    <tr style=\"text-align: right;\">\n",
              "      <th></th>\n",
              "      <th>review</th>\n",
              "      <th>sentiment</th>\n",
              "    </tr>\n",
              "  </thead>\n",
              "  <tbody>\n",
              "    <tr>\n",
              "      <th>0</th>\n",
              "      <td>One of the other reviewers has mentioned that ...</td>\n",
              "      <td>positive</td>\n",
              "    </tr>\n",
              "    <tr>\n",
              "      <th>1</th>\n",
              "      <td>A wonderful little production. &lt;br /&gt;&lt;br /&gt;The...</td>\n",
              "      <td>positive</td>\n",
              "    </tr>\n",
              "    <tr>\n",
              "      <th>2</th>\n",
              "      <td>I thought this was a wonderful way to spend ti...</td>\n",
              "      <td>positive</td>\n",
              "    </tr>\n",
              "    <tr>\n",
              "      <th>3</th>\n",
              "      <td>Basically there's a family where a little boy ...</td>\n",
              "      <td>negative</td>\n",
              "    </tr>\n",
              "    <tr>\n",
              "      <th>4</th>\n",
              "      <td>Petter Mattei's \"Love in the Time of Money\" is...</td>\n",
              "      <td>positive</td>\n",
              "    </tr>\n",
              "  </tbody>\n",
              "</table>\n",
              "</div>\n",
              "      <button class=\"colab-df-convert\" onclick=\"convertToInteractive('df-f7846e17-868b-42c5-a394-21f3722f5c21')\"\n",
              "              title=\"Convert this dataframe to an interactive table.\"\n",
              "              style=\"display:none;\">\n",
              "        \n",
              "  <svg xmlns=\"http://www.w3.org/2000/svg\" height=\"24px\"viewBox=\"0 0 24 24\"\n",
              "       width=\"24px\">\n",
              "    <path d=\"M0 0h24v24H0V0z\" fill=\"none\"/>\n",
              "    <path d=\"M18.56 5.44l.94 2.06.94-2.06 2.06-.94-2.06-.94-.94-2.06-.94 2.06-2.06.94zm-11 1L8.5 8.5l.94-2.06 2.06-.94-2.06-.94L8.5 2.5l-.94 2.06-2.06.94zm10 10l.94 2.06.94-2.06 2.06-.94-2.06-.94-.94-2.06-.94 2.06-2.06.94z\"/><path d=\"M17.41 7.96l-1.37-1.37c-.4-.4-.92-.59-1.43-.59-.52 0-1.04.2-1.43.59L10.3 9.45l-7.72 7.72c-.78.78-.78 2.05 0 2.83L4 21.41c.39.39.9.59 1.41.59.51 0 1.02-.2 1.41-.59l7.78-7.78 2.81-2.81c.8-.78.8-2.07 0-2.86zM5.41 20L4 18.59l7.72-7.72 1.47 1.35L5.41 20z\"/>\n",
              "  </svg>\n",
              "      </button>\n",
              "      \n",
              "  <style>\n",
              "    .colab-df-container {\n",
              "      display:flex;\n",
              "      flex-wrap:wrap;\n",
              "      gap: 12px;\n",
              "    }\n",
              "\n",
              "    .colab-df-convert {\n",
              "      background-color: #E8F0FE;\n",
              "      border: none;\n",
              "      border-radius: 50%;\n",
              "      cursor: pointer;\n",
              "      display: none;\n",
              "      fill: #1967D2;\n",
              "      height: 32px;\n",
              "      padding: 0 0 0 0;\n",
              "      width: 32px;\n",
              "    }\n",
              "\n",
              "    .colab-df-convert:hover {\n",
              "      background-color: #E2EBFA;\n",
              "      box-shadow: 0px 1px 2px rgba(60, 64, 67, 0.3), 0px 1px 3px 1px rgba(60, 64, 67, 0.15);\n",
              "      fill: #174EA6;\n",
              "    }\n",
              "\n",
              "    [theme=dark] .colab-df-convert {\n",
              "      background-color: #3B4455;\n",
              "      fill: #D2E3FC;\n",
              "    }\n",
              "\n",
              "    [theme=dark] .colab-df-convert:hover {\n",
              "      background-color: #434B5C;\n",
              "      box-shadow: 0px 1px 3px 1px rgba(0, 0, 0, 0.15);\n",
              "      filter: drop-shadow(0px 1px 2px rgba(0, 0, 0, 0.3));\n",
              "      fill: #FFFFFF;\n",
              "    }\n",
              "  </style>\n",
              "\n",
              "      <script>\n",
              "        const buttonEl =\n",
              "          document.querySelector('#df-f7846e17-868b-42c5-a394-21f3722f5c21 button.colab-df-convert');\n",
              "        buttonEl.style.display =\n",
              "          google.colab.kernel.accessAllowed ? 'block' : 'none';\n",
              "\n",
              "        async function convertToInteractive(key) {\n",
              "          const element = document.querySelector('#df-f7846e17-868b-42c5-a394-21f3722f5c21');\n",
              "          const dataTable =\n",
              "            await google.colab.kernel.invokeFunction('convertToInteractive',\n",
              "                                                     [key], {});\n",
              "          if (!dataTable) return;\n",
              "\n",
              "          const docLinkHtml = 'Like what you see? Visit the ' +\n",
              "            '<a target=\"_blank\" href=https://colab.research.google.com/notebooks/data_table.ipynb>data table notebook</a>'\n",
              "            + ' to learn more about interactive tables.';\n",
              "          element.innerHTML = '';\n",
              "          dataTable['output_type'] = 'display_data';\n",
              "          await google.colab.output.renderOutput(dataTable, element);\n",
              "          const docLink = document.createElement('div');\n",
              "          docLink.innerHTML = docLinkHtml;\n",
              "          element.appendChild(docLink);\n",
              "        }\n",
              "      </script>\n",
              "    </div>\n",
              "  </div>\n",
              "  "
            ]
          },
          "metadata": {},
          "execution_count": 3
        }
      ]
    },
    {
      "cell_type": "code",
      "source": [
        "X = df['review']       \n",
        "y = df['sentiment']    \n",
        "\n",
        "stops = set(stopwords.words('english'))\n",
        "\n",
        " # removing html tags & non alphabets\n",
        "X = X.replace({'<.*?>[^A-Za-z]': ''}, regex = True)         \n",
        "# removing stop words\n",
        "X = X.apply(lambda review: [w for w in review.split() if w not in stops])  \n",
        "X.apply(lambda review: [w.lower() for w in review]) \n",
        "    \n",
        "y = y.replace('positive', 1)  #binary form\n",
        "y = y.replace('negative', 0)"
      ],
      "metadata": {
        "id": "f1Mjz-B_hbPs"
      },
      "execution_count": 4,
      "outputs": []
    },
    {
      "cell_type": "code",
      "source": [
        "print('Reviews')\n",
        "print(X, '\\n')\n",
        "print('Sentiment')\n",
        "print(y)"
      ],
      "metadata": {
        "colab": {
          "base_uri": "https://localhost:8080/"
        },
        "id": "TJe_Ae5chbS2",
        "outputId": "ab855c97-bc58-4e52-8f04-4c73eaa17910"
      },
      "execution_count": 5,
      "outputs": [
        {
          "output_type": "stream",
          "name": "stdout",
          "text": [
            "Reviews\n",
            "0        [One, reviewers, mentioned, watching, 1, Oz, e...\n",
            "1        [A, wonderful, little, production., br, />The,...\n",
            "2        [I, thought, wonderful, way, spend, time, hot,...\n",
            "3        [Basically, there's, family, little, boy, (Jak...\n",
            "4        [Petter, Mattei's, \"Love, Time, Money\", visual...\n",
            "                               ...                        \n",
            "49995    [I, thought, movie, right, good, job., It, cre...\n",
            "49996    [Bad, plot,, bad, dialogue,, bad, acting,, idi...\n",
            "49997    [I, Catholic, taught, parochial, elementary, s...\n",
            "49998    [I'm, going, disagree, previous, comment, side...\n",
            "49999    [No, one, expects, Star, Trek, movies, high, a...\n",
            "Name: review, Length: 50000, dtype: object \n",
            "\n",
            "Sentiment\n",
            "0        1\n",
            "1        1\n",
            "2        1\n",
            "3        0\n",
            "4        1\n",
            "        ..\n",
            "49995    1\n",
            "49996    0\n",
            "49997    0\n",
            "49998    0\n",
            "49999    0\n",
            "Name: sentiment, Length: 50000, dtype: int64\n"
          ]
        }
      ]
    },
    {
      "cell_type": "code",
      "source": [
        "X_train, X_test, y_train, y_test = train_test_split(X, y, train_size = 0.8)\n",
        "\n",
        "print('Train Set')\n",
        "print(X_train, '\\n')\n",
        "print(X_test, '\\n')\n",
        "print('Test Set')\n",
        "print(y_train, '\\n')\n",
        "print(y_test)"
      ],
      "metadata": {
        "colab": {
          "base_uri": "https://localhost:8080/"
        },
        "id": "QSzhw9CqjKck",
        "outputId": "d8608410-84e0-4af6-81df-3c650dee963b"
      },
      "execution_count": 6,
      "outputs": [
        {
          "output_type": "stream",
          "name": "stdout",
          "text": [
            "Train Set\n",
            "41640    [This, film, really, makes, cringe., In, 1951,...\n",
            "43613    [Rather, long, dance, sequences, close, ups, c...\n",
            "8184     [I'm, words, describe, beauty, \"The, Cranes, F...\n",
            "13381    [I, expecting, lot, film, directed, Sidney, J....\n",
            "39170    [THHE2, entertaining, laugh, lot, cringe, prob...\n",
            "                               ...                        \n",
            "9302     [The, film, collection, cliche's, anything, th...\n",
            "41053    [You, Belong, To, Me, final, teaming, Henry, F...\n",
            "45408    [Opening, credits:, great., Music:, right, fil...\n",
            "10265    [This, movie, stinks!, You, want, back, two-pl...\n",
            "23340    [I, kid, .., crazy, Michael, Jackson., His, mu...\n",
            "Name: review, Length: 40000, dtype: object \n",
            "\n",
            "30547    [OK..., so..., I, really, like, Kris, Kristoff...\n",
            "22874    [Picture, classic, noir, story, lines, infused...\n",
            "4845     [By, time, Hellraiser, franchise, reaching, fo...\n",
            "20068    [This, favorite, game, Nintendo, 64, platform....\n",
            "11593    [here,, let, wave, hands, keyboard,, i'll, tel...\n",
            "                               ...                        \n",
            "28016    [Well,, I, fell, it., I, saw, box, video, stor...\n",
            "745      [Cute, idea..., salesgirl, Linda, Smith, (Yola...\n",
            "18440    [I, f, thought, Sam, Mendes', first, film,, mu...\n",
            "8423     [...intimate, specific., Yes,, bit, cinderella...\n",
            "23969    [I, really, enjoyed, movie., During, movie,, I...\n",
            "Name: review, Length: 10000, dtype: object \n",
            "\n",
            "Test Set\n",
            "41640    0\n",
            "43613    0\n",
            "8184     1\n",
            "13381    0\n",
            "39170    0\n",
            "        ..\n",
            "9302     0\n",
            "41053    0\n",
            "45408    1\n",
            "10265    0\n",
            "23340    1\n",
            "Name: sentiment, Length: 40000, dtype: int64 \n",
            "\n",
            "30547    0\n",
            "22874    1\n",
            "4845     0\n",
            "20068    1\n",
            "11593    0\n",
            "        ..\n",
            "28016    0\n",
            "745      1\n",
            "18440    1\n",
            "8423     1\n",
            "23969    1\n",
            "Name: sentiment, Length: 10000, dtype: int64\n"
          ]
        }
      ]
    },
    {
      "cell_type": "code",
      "source": [
        "def maximum_length():\n",
        "    review_length = []\n",
        "    for review in X_train:\n",
        "        review_length.append(len(review))\n",
        "\n",
        "    return int(np.ceil(np.mean(review_length)))"
      ],
      "metadata": {
        "id": "O-nCGtu3jXKX"
      },
      "execution_count": 7,
      "outputs": []
    },
    {
      "cell_type": "code",
      "source": [
        "def maximum_length():\n",
        "    review_length = []\n",
        "    for review in X_train:\n",
        "        review_length.append(len(review))\n",
        "\n",
        "    return int(np.ceil(np.mean(review_length)))\n",
        "\n",
        "token = Tokenizer(lower=False)   \n",
        "token.fit_on_texts(X_train)\n",
        "X_train = token.texts_to_sequences(X_train)\n",
        "X_test = token.texts_to_sequences(X_test)\n",
        "\n",
        "max_length = maximum_length()\n",
        "\n",
        "X_train = pad_sequences(X_train, maxlen=max_length, padding='post', truncating='post')\n",
        "X_test = pad_sequences(X_test, maxlen=max_length, padding='post', truncating='post')\n",
        "\n",
        "total_words = len(token.word_index) + 1 \n",
        "\n",
        "print('Encoded X Train\\n', X_train, '\\n')\n",
        "print('Encoded X Test\\n', X_test, '\\n')\n",
        "print('Maximum review length: ', max_length)"
      ],
      "metadata": {
        "colab": {
          "base_uri": "https://localhost:8080/"
        },
        "id": "FL4TSs0mjZcL",
        "outputId": "69b84ea3-c05b-46fb-b898-8b44fa9cf658"
      },
      "execution_count": 8,
      "outputs": [
        {
          "output_type": "stream",
          "name": "stdout",
          "text": [
            "Encoded X Train\n",
            " [[     7      4     11 ...      0      0      0]\n",
            " [  5174    134    967 ...      0      0      0]\n",
            " [    70    832   1502 ...    180    223   4159]\n",
            " ...\n",
            " [ 19016 100026   1140 ...      0      0      0]\n",
            " [     7      3  43596 ...      0      0      0]\n",
            " [     1    578   4791 ...      0      0      0]] \n",
            "\n",
            "Encoded X Test\n",
            " [[ 40729  18047      1 ...      0      0      0]\n",
            " [  4479    327   2239 ...    409    390     21]\n",
            " [   874     18  24759 ...      0      0      0]\n",
            " ...\n",
            " [     1  23802    100 ...     16    772  49133]\n",
            " [138609    973    122 ...      0      0      0]\n",
            " [     1     11    354 ...      0      0      0]] \n",
            "\n",
            "Maximum review length:  135\n"
          ]
        }
      ]
    },
    {
      "cell_type": "code",
      "source": [
        "EMBED_DIM = 32\n",
        "LSTM_OUT = 64\n",
        "\n",
        "model = Sequential()\n",
        "model.add(Embedding(total_words, EMBED_DIM, input_length = max_length))\n",
        "model.add(LSTM(LSTM_OUT))\n",
        "model.add(Dense(1, activation='sigmoid'))\n",
        "model.compile(optimizer = 'adam', loss = 'binary_crossentropy', metrics = ['accuracy'])\n",
        "\n",
        "print(model.summary())"
      ],
      "metadata": {
        "colab": {
          "base_uri": "https://localhost:8080/"
        },
        "id": "IMk3v87JjZfC",
        "outputId": "615d5f32-12e5-4cc0-8b4a-ad42c62b91d5"
      },
      "execution_count": 9,
      "outputs": [
        {
          "output_type": "stream",
          "name": "stdout",
          "text": [
            "Model: \"sequential\"\n",
            "_________________________________________________________________\n",
            " Layer (type)                Output Shape              Param #   \n",
            "=================================================================\n",
            " embedding (Embedding)       (None, 135, 32)           12181312  \n",
            "                                                                 \n",
            " lstm (LSTM)                 (None, 64)                24832     \n",
            "                                                                 \n",
            " dense (Dense)               (None, 1)                 65        \n",
            "                                                                 \n",
            "=================================================================\n",
            "Total params: 12,206,209\n",
            "Trainable params: 12,206,209\n",
            "Non-trainable params: 0\n",
            "_________________________________________________________________\n",
            "None\n"
          ]
        }
      ]
    },
    {
      "cell_type": "code",
      "source": [
        "model.fit(X_train, y_train, batch_size = 64, epochs = 20)"
      ],
      "metadata": {
        "colab": {
          "base_uri": "https://localhost:8080/"
        },
        "id": "Lqycf2ackSoW",
        "outputId": "f8197153-cf0a-4cde-bd1e-205bc35f0530"
      },
      "execution_count": 10,
      "outputs": [
        {
          "output_type": "stream",
          "name": "stdout",
          "text": [
            "Epoch 1/20\n",
            "625/625 [==============================] - 155s 244ms/step - loss: 0.6648 - accuracy: 0.5911\n",
            "Epoch 2/20\n",
            "625/625 [==============================] - 138s 221ms/step - loss: 0.5798 - accuracy: 0.7066\n",
            "Epoch 3/20\n",
            "625/625 [==============================] - 140s 223ms/step - loss: 0.3359 - accuracy: 0.8829\n",
            "Epoch 4/20\n",
            "625/625 [==============================] - 138s 220ms/step - loss: 0.3877 - accuracy: 0.8472\n",
            "Epoch 5/20\n",
            "625/625 [==============================] - 143s 229ms/step - loss: 0.2285 - accuracy: 0.9316\n",
            "Epoch 6/20\n",
            "625/625 [==============================] - 137s 219ms/step - loss: 0.2644 - accuracy: 0.9159\n",
            "Epoch 7/20\n",
            "625/625 [==============================] - 137s 219ms/step - loss: 0.3682 - accuracy: 0.8187\n",
            "Epoch 8/20\n",
            "625/625 [==============================] - 139s 223ms/step - loss: 0.3220 - accuracy: 0.8732\n",
            "Epoch 9/20\n",
            "625/625 [==============================] - 138s 221ms/step - loss: 0.2493 - accuracy: 0.9123\n",
            "Epoch 10/20\n",
            "625/625 [==============================] - 137s 220ms/step - loss: 0.1857 - accuracy: 0.9383\n",
            "Epoch 11/20\n",
            "625/625 [==============================] - 137s 219ms/step - loss: 0.1247 - accuracy: 0.9606\n",
            "Epoch 12/20\n",
            "625/625 [==============================] - 138s 221ms/step - loss: 0.1274 - accuracy: 0.9600\n",
            "Epoch 13/20\n",
            "625/625 [==============================] - 138s 221ms/step - loss: 0.1193 - accuracy: 0.9640\n",
            "Epoch 14/20\n",
            "625/625 [==============================] - 139s 222ms/step - loss: 0.2964 - accuracy: 0.8996\n",
            "Epoch 15/20\n",
            "625/625 [==============================] - 138s 221ms/step - loss: 0.3256 - accuracy: 0.8285\n",
            "Epoch 16/20\n",
            "625/625 [==============================] - 139s 223ms/step - loss: 0.2489 - accuracy: 0.9065\n",
            "Epoch 17/20\n",
            "625/625 [==============================] - 139s 222ms/step - loss: 0.1292 - accuracy: 0.9659\n",
            "Epoch 18/20\n",
            "625/625 [==============================] - 138s 221ms/step - loss: 0.1743 - accuracy: 0.9413\n",
            "Epoch 19/20\n",
            "625/625 [==============================] - 138s 221ms/step - loss: 0.1172 - accuracy: 0.9588\n",
            "Epoch 20/20\n",
            "625/625 [==============================] - 138s 220ms/step - loss: 0.0755 - accuracy: 0.9758\n"
          ]
        },
        {
          "output_type": "execute_result",
          "data": {
            "text/plain": [
              "<keras.callbacks.History at 0x7f53d2a42250>"
            ]
          },
          "metadata": {},
          "execution_count": 10
        }
      ]
    },
    {
      "cell_type": "code",
      "source": [
        "y_pred = (model.predict(X_test, batch_size = 128) > 0.5).astype(\"int32\")\n",
        "\n",
        "true = 0\n",
        "for i, y in enumerate(y_test):\n",
        "    if y == y_pred[i]:\n",
        "        true += 1\n",
        "\n",
        "print('Correct Prediction: {}'.format(true))\n",
        "print('Wrong Prediction: {}'.format(len(y_pred) - true))\n",
        "print('Accuracy: {}'.format(true/len(y_pred)*100))"
      ],
      "metadata": {
        "colab": {
          "base_uri": "https://localhost:8080/"
        },
        "id": "j9Gu3jxpjZhG",
        "outputId": "3f35e319-a001-497e-b3fe-33df6c12a09e"
      },
      "execution_count": 15,
      "outputs": [
        {
          "output_type": "stream",
          "name": "stdout",
          "text": [
            "Correct Prediction: 8207\n",
            "Wrong Prediction: 1793\n",
            "Accuracy: 82.07\n"
          ]
        }
      ]
    },
    {
      "cell_type": "code",
      "source": [
        ""
      ],
      "metadata": {
        "id": "9yxVB5odjZjg"
      },
      "execution_count": null,
      "outputs": []
    },
    {
      "cell_type": "code",
      "source": [
        ""
      ],
      "metadata": {
        "id": "uR5LdGNjjXM7"
      },
      "execution_count": null,
      "outputs": []
    },
    {
      "cell_type": "code",
      "source": [
        ""
      ],
      "metadata": {
        "id": "ebLi2oqRjXPB"
      },
      "execution_count": null,
      "outputs": []
    },
    {
      "cell_type": "code",
      "source": [
        ""
      ],
      "metadata": {
        "id": "ougFH_9yjXRY"
      },
      "execution_count": null,
      "outputs": []
    },
    {
      "cell_type": "code",
      "source": [
        ""
      ],
      "metadata": {
        "id": "n7sJvJxEjKe3"
      },
      "execution_count": null,
      "outputs": []
    },
    {
      "cell_type": "code",
      "source": [
        ""
      ],
      "metadata": {
        "id": "wnftHF0yjKhd"
      },
      "execution_count": null,
      "outputs": []
    }
  ]
}